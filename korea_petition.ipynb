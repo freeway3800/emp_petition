{
 "cells": [
  {
   "cell_type": "code",
   "execution_count": 1,
   "id": "06190519",
   "metadata": {},
   "outputs": [],
   "source": [
    "from bs4 import BeautifulSoup\n",
    "from urllib.request import urlopen\n",
    "import datetime\n",
    "import time\n",
    "import re"
   ]
  },
  {
   "cell_type": "code",
   "execution_count": 2,
   "id": "b1030b71",
   "metadata": {},
   "outputs": [
    {
     "name": "stdout",
     "output_type": "stream",
     "text": [
      "\n",
      "외국 국적 여중생을 묶고 6시간 가학적 집단폭행한 가해자4명 강력처벌.신상공개를촉구합니다. 232868 명\n",
      "드라마 설** 방영중지 청원 358098 명\n",
      "푸들만 19마리 입양 ! 온갖고문으로 잔혹학대 후 죽이고 불법매립한 범죄자의 강력한 처벌을 촉구하며, 신상공개 동의해주세요!!!!! 207591 명\n",
      "\n",
      "\n",
      "\n",
      "\n",
      "\n",
      "\n",
      "\n",
      "\n",
      "\n",
      "\n",
      "\n",
      "\n",
      "\n",
      "\n",
      "\n",
      "\n"
     ]
    }
   ],
   "source": [
    "for page in range(1,2,1):\n",
    "    url=\"https://www1.president.go.kr/petitions/best?page={}\".format(page)\n",
    "    html=urlopen(url)\n",
    "    petition= BeautifulSoup(html, 'html.parser')\n",
    "    # 필요내용 추출\n",
    "    df=petition.findAll('div',{'class':'bl_wrap'})\n",
    "    #참여인원 추출\n",
    "    df_qua=df[1].find('div',{'class':'bl_agree cbv'}).get_text()\n",
    "    time.sleep(2)\n",
    "for Quantity in range(0,len(df),1):\n",
    "    try:\n",
    "        #제목 추출 \n",
    "        ds=df[Quantity].find('a',{'class':'cb'}).get_text()\n",
    "        #조회수 추출\n",
    "        df_qua=df[Quantity].find('div',{'class':'bl_agree cbv'}).get_text()\n",
    "        qua_search=re.compile('[0-9]+')\n",
    "        qua=qua_search.findall(df_qua)\n",
    "        qua=int(qua[0] + qua[1])\n",
    "        \n",
    "        print(ds.strip('\\n 제목 '),qua,'명')\n",
    "    except :\n",
    "        print('')\n",
    "    \n",
    "    "
   ]
  },
  {
   "cell_type": "code",
   "execution_count": 5,
   "id": "150dfbb1",
   "metadata": {},
   "outputs": [
    {
     "name": "stdout",
     "output_type": "stream",
     "text": [
      "\n",
      "외국 국적 여중생을 묶고 6시간 가학적 집단폭행한 가해자4명 강력처벌.신상공개를촉구합니다. 232868 명\n",
      "드라마 설** 방영중지 청원 358098 명\n",
      "푸들만 19마리 입양 ! 온갖고문으로 잔혹학대 후 죽이고 불법매립한 범죄자의 강력한 처벌을 촉구하며, 신상공개 동의해주세요!!!!! 207591 명\n",
      "\n",
      "\n",
      "\n",
      "\n",
      "\n",
      "\n",
      "\n",
      "\n",
      "\n",
      "\n",
      "\n",
      "\n",
      "\n",
      "\n",
      "\n",
      "\n"
     ]
    }
   ],
   "source": [
    "for Quantity in range(0,len(df),1):\n",
    "    try:\n",
    "        #제목 추출 \n",
    "        ds=df[Quantity].find('a',{'class':'cb'}).get_text()\n",
    "        #조회수 추출\n",
    "        df_qua=df[Quantity].find('div',{'class':'bl_agree cbv'}).get_text()\n",
    "        qua_search=re.compile('[0-9]+')\n",
    "        qua=qua_search.findall(df_qua)\n",
    "        qua=int(qua[0] + qua[1])\n",
    "        print(ds.strip('\\n 제목 '),qua,'명')\n",
    "    except :\n",
    "        print('')"
   ]
  },
  {
   "cell_type": "code",
   "execution_count": 6,
   "id": "21ac318b",
   "metadata": {},
   "outputs": [
    {
     "name": "stdout",
     "output_type": "stream",
     "text": [
      "\n",
      "외국 국적 여중생을 묶고 6시간 가학적 집단폭행한 가해자4명 강력처벌.신상공개를촉구합니다.\n",
      "드라마 설** 방영중지 청원\n",
      "푸들만 19마리 입양 ! 온갖고문으로 잔혹학대 후 죽이고 불법매립한 범죄자의 강력한 처벌을 촉구하며, 신상공개 동의해주세요!!!!!\n",
      "\n",
      "드라마 설** 방영중지 청원\n",
      "푸들만 19마리 입양 ! 온갖고문으로 잔혹학대 후 죽이고 불법매립한 범죄자의 강력한 처벌을…\n",
      "아이들까지 백신강요 하지 마세요!\n",
      "코로나 1차 접종 후 뇌사상태에 빠진 제 딸을 살려주세요!!!!!\n",
      "초등6학년 여자아이를 11명이 보복 폭행한 사건입니다 도와주세요\n",
      "반헌법적 드라마를 방영하는 JTBC의 폐국을 청원합니다.\n",
      "학원, 도서관, 독서실 백신패스 철회해라 !!!\n",
      "박근혜 사면을 반대합니다.\n",
      "안하무인, 아전인수, 유체이탈 언행으로 가족 모두를 외상후 스트레스 장애에 빠뜨린 20대 …\n",
      "청소년 백신패스 도입 철회해주세요.\n",
      "화이자백신 맞은 14살 제 딸이 심근염으로 생사를 오가고 있습니다!! 제발 도와주세요!!\n",
      "국내 SNS와 커뮤니티에 대한 검열을 남발하는 'n번방 방지법' 개정을 …\n",
      "코로나 백신 성분 검증 및 현미경으로 미생물 유무 공개 방송 합시다\n",
      "임산부와 난임치료자는 백신패스 면제해주십시오.\n",
      "초등학교 6학년 같은 반 남학생이 엘리베이터 안에서 저희 딸의 바지를 내리고 강제추행했습니…\n"
     ]
    }
   ],
   "source": [
    "for Quantity in range(0,len(df),1):\n",
    "    try:\n",
    "        #제목 추출 \n",
    "        ds=df[Quantity].find('a',{'class':'cb'}).get_text()\n",
    "\n",
    "        \n",
    "        print(ds.strip('\\n 제목 '))\n",
    "    except :\n",
    "        print('')"
   ]
  },
  {
   "cell_type": "code",
   "execution_count": 11,
   "id": "81a52093",
   "metadata": {},
   "outputs": [
    {
     "name": "stdout",
     "output_type": "stream",
     "text": [
      "\n"
     ]
    }
   ],
   "source": [
    "try:\n",
    "    df_qua=df[4].find('div',{'class':'bl_agree cbv'}).get_text()\n",
    "    qua_search=re.compile('[0-9]+')\n",
    "    qua=qua_search.findall(df_qua)\n",
    "    qua=int(qua[0] + qua[1])\n",
    "except:\n",
    "    print('')"
   ]
  },
  {
   "cell_type": "code",
   "execution_count": null,
   "id": "c79d8a97",
   "metadata": {},
   "outputs": [],
   "source": []
  }
 ],
 "metadata": {
  "kernelspec": {
   "display_name": "Python 3",
   "language": "python",
   "name": "python3"
  },
  "language_info": {
   "codemirror_mode": {
    "name": "ipython",
    "version": 3
   },
   "file_extension": ".py",
   "mimetype": "text/x-python",
   "name": "python",
   "nbconvert_exporter": "python",
   "pygments_lexer": "ipython3",
   "version": "3.8.8"
  }
 },
 "nbformat": 4,
 "nbformat_minor": 5
}
